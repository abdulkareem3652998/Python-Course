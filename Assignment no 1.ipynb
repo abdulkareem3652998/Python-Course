{
 "cells": [
  {
   "cell_type": "code",
   "execution_count": 13,
   "metadata": {},
   "outputs": [
    {
     "name": "stdout",
     "output_type": "stream",
     "text": [
      "Question NO 1 Solution\n",
      " \n",
      "Twinkle, twinkle, little star,\n",
      "\tHow I wonder what you are!\n",
      "\tUp above the world so high,\n",
      "\tLike a diamond in the Sky.\n",
      "Twinkle, twinkle, little star, \n",
      "\tHow I wonder what you are\n"
     ]
    }
   ],
   "source": [
    "print(\"Question NO 1 Solution\\n \")\n",
    "print(\"Twinkle, twinkle, little star,\\n\\tHow I wonder what you are!\\n\\tUp above the world so high,\\n\\tLike a diamond in the Sky.\\nTwinkle, twinkle, little star, \\n\\tHow I wonder what you are\")"
   ]
  },
  {
   "cell_type": "code",
   "execution_count": 14,
   "metadata": {},
   "outputs": [
    {
     "name": "stdout",
     "output_type": "stream",
     "text": [
      "Question NO 2 Solution\n",
      " \n",
      "3.7.4 (default, Aug  9 2019, 18:22:51) [MSC v.1915 32 bit (Intel)]\n"
     ]
    }
   ],
   "source": [
    "print(\"Question NO 2 Solution\\n \")\n",
    "import sys\n",
    "print(sys.version)"
   ]
  },
  {
   "cell_type": "code",
   "execution_count": 15,
   "metadata": {},
   "outputs": [
    {
     "name": "stdout",
     "output_type": "stream",
     "text": [
      "Question NO 3 Solution\n",
      " \n",
      "Current date and time: 07-11-2019 04:27:10\n"
     ]
    }
   ],
   "source": [
    "print(\"Question NO 3 Solution\\n \")\n",
    "import datetime\n",
    "now=datetime.datetime.now()\n",
    "print(\"Current date and time: \"+now.strftime(\"%d-%m-%Y %H:%M:%S\"))"
   ]
  },
  {
   "cell_type": "code",
   "execution_count": 16,
   "metadata": {},
   "outputs": [
    {
     "ename": "SyntaxError",
     "evalue": "invalid syntax (<ipython-input-16-9db4d062ef12>, line 2)",
     "output_type": "error",
     "traceback": [
      "\u001b[1;36m  File \u001b[1;32m\"<ipython-input-16-9db4d062ef12>\"\u001b[1;36m, line \u001b[1;32m2\u001b[0m\n\u001b[1;33m    form math import pi\u001b[0m\n\u001b[1;37m            ^\u001b[0m\n\u001b[1;31mSyntaxError\u001b[0m\u001b[1;31m:\u001b[0m invalid syntax\n"
     ]
    }
   ],
   "source": [
    "print(\"Question NO 4 Solution\\n \")\n",
    "form math import pi\n",
    "r= float(input(\"Input the radius of the circle: \"))\n",
    "print(\"The area of the circle with radius \"+ str(r)+ \"is:\"+str(pi*r**2))"
   ]
  },
  {
   "cell_type": "code",
   "execution_count": 17,
   "metadata": {},
   "outputs": [
    {
     "name": "stdout",
     "output_type": "stream",
     "text": [
      "Question NO 5 Solution\n",
      " \n",
      "Input your First Name :Abdul\n",
      "Input your Last Name : Kareem\n",
      "Hello Kareem Abdul\n"
     ]
    }
   ],
   "source": [
    "print(\"Question NO 5 Solution\\n \")\n",
    "fname= input(\"Input your First Name :\")\n",
    "lname=input(\"Input your Last Name : \")\n",
    "print(\"Hello \"+lname+\" \"+fname)"
   ]
  },
  {
   "cell_type": "code",
   "execution_count": null,
   "metadata": {},
   "outputs": [],
   "source": []
  }
 ],
 "metadata": {
  "kernelspec": {
   "display_name": "Python 3",
   "language": "python",
   "name": "python3"
  },
  "language_info": {
   "codemirror_mode": {
    "name": "ipython",
    "version": 3
   },
   "file_extension": ".py",
   "mimetype": "text/x-python",
   "name": "python",
   "nbconvert_exporter": "python",
   "pygments_lexer": "ipython3",
   "version": "3.7.4"
  }
 },
 "nbformat": 4,
 "nbformat_minor": 2
}
